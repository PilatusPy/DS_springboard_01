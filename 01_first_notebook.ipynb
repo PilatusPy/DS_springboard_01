{
  "nbformat": 4,
  "nbformat_minor": 0,
  "metadata": {
    "colab": {
      "provenance": []
    },
    "kernelspec": {
      "name": "python3",
      "display_name": "Python 3"
    },
    "language_info": {
      "name": "python"
    }
  },
  "cells": [
    {
      "cell_type": "markdown",
      "source": [
        "# Introduction\n",
        "“This is my *first* Jupyter notebook”"
      ],
      "metadata": {
        "id": "uBLmU09CrGo5"
      }
    },
    {
      "cell_type": "code",
      "execution_count": 1,
      "metadata": {
        "id": "S7cGxnwAqN4Y"
      },
      "outputs": [],
      "source": [
        "x = 5\n",
        "y = 6\n",
        "\n"
      ]
    },
    {
      "cell_type": "code",
      "source": [
        "z=x+y"
      ],
      "metadata": {
        "id": "9E2HeFplsHGK"
      },
      "execution_count": 2,
      "outputs": []
    },
    {
      "cell_type": "code",
      "source": [
        "print(z)"
      ],
      "metadata": {
        "colab": {
          "base_uri": "https://localhost:8080/"
        },
        "id": "CH21LN5FsJ6H",
        "outputId": "2c573879-3659-4a44-990b-5dc651ec364e"
      },
      "execution_count": 3,
      "outputs": [
        {
          "output_type": "stream",
          "name": "stdout",
          "text": [
            "11\n"
          ]
        }
      ]
    },
    {
      "cell_type": "code",
      "source": [],
      "metadata": {
        "id": "FVcK4MpisRL0"
      },
      "execution_count": null,
      "outputs": []
    }
  ]
}